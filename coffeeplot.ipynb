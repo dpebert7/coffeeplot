{
 "cells": [
  {
   "cell_type": "code",
   "execution_count": 13,
   "metadata": {},
   "outputs": [],
   "source": [
    "import matplotlib.pyplot as plt\n",
    "import matplotlib.figure as fig\n",
    "import matplotlib.ticker as ticker\n",
    "import numpy as np\n",
    "from matplotlib.ticker import AutoMinorLocator\n",
    "import pandas as pd\n",
    "import os\n",
    "os.chdir(\"/home/david/Documents/GitRepos/coffeeplot\")"
   ]
  },
  {
   "cell_type": "code",
   "execution_count": 14,
   "metadata": {
    "collapsed": true
   },
   "outputs": [],
   "source": [
    "from matplotlib.ticker import AutoMinorLocator\n",
    "\n",
    "# One can supply an argument to AutoMinorLocator to\n",
    "# specify a fixed number of minor intervals per major interval, e.g.:\n",
    "minorLocator = AutoMinorLocator(3)\n",
    "# would lead to a 2 minor ticks between major ticks.\n",
    "\n",
    "#minorLocator = AutoMinorLocator()\n",
    "\n",
    "\n",
    "\n",
    "#time = pd.Series([i for i in range(1,89)])"
   ]
  },
  {
   "cell_type": "code",
   "execution_count": 15,
   "metadata": {
    "collapsed": true
   },
   "outputs": [],
   "source": [
    "#Data\n",
    "\n",
    "parker = pd.Series([0.5]*88)\n",
    "\n",
    "time = pd.Series([i for i in range(1,89)])\n",
    "\n",
    "mary = pd.Series([0.1]*7+[6.0]*11+[5.9]*10+[6.0]*10+[5.9]*10+[6.0]*10+[5.9]*10+[6.0]*9+[6.02]*3+[6.05]*2+[6.08]+[6.11]+[6.12]+[6.13]+[6.14]+[6.15])\n",
    "\n",
    "david = pd.Series([0.0, 0.0, 0.0, 0.0, 0.0, 0.0, 0.0, 0.0, 0.0, 0.0, 0.0, 0.0,\n",
    "                    0.0, 0.0, 0.0, 0.0, 0.0, 0.0, 0.0, 0.0, 0.0, 0.0, 0.0, 0.0, \n",
    "                    0.05, 0.1, 0.1, 0.05, 0.0, 0.0, 0.0, 0.0, 0.0, 0.0, 0.05, 0.05, \n",
    "                    0.0, 0.0, 0.0, 0.0, 0.0, 0.0, 0.0, 0.0, 0.0, 0.0, 0.0, 0.0, \n",
    "                    0.0, 0.0, 0.01, 0.05, 0.1, 0.2, 0.25, 0.1, 0.05, 0.01, 0.0, 0.0, \n",
    "                    0.0, 0.0, 0.0, 0.0, 0.0, 0.0, 0.02, 0.05, 0.1, 0.15, 0.2, 0.25, \n",
    "                    0.3, 0.25, 0.3, 0.4, 0.35, 0.35, 0.4, 0.35, 0.35, 0.35, 0.3, 0.35, \n",
    "                    1.0, 1.05, 1.1, 1.15])\n",
    "\n",
    "joseph = pd.Series([0.0, 0.0, 0.0, 0.0, 0.0, 0.0, 1.0, 1.0, 1.0, 1.0, 2.0, 2.0,\n",
    "                    2.0, 2.0, 2.0, 2.0, 3.0, 3.0, 3.0, 0.2, 0.2, 0.2, 0.3, 0.5,\n",
    "                    1.0, 1.0, 1.0, 1.5, 2.0, 2.0, 2.0, 2.0, 2.0, 3.0, 3.0, 3.0,\n",
    "                    3.0, 3.0, 3.0, 1.5, 1.5, 1.5, 1.5, 0.4, 0.4, 0.4, 0.4, 0.4,\n",
    "                    0.4, 0.4, 1.0, 1.5, 1.5, 2.0, 2.0, 2.0, 2.5, 3.0, 3.0, 3.0,\n",
    "                    3.5, 4.0, 4.0, 4.0, 3.0, 2.0, 1.0, 0.0, 0.0, 0.5, 1.0, 2.0, \n",
    "                    3.0, 1.0, 3.0, 1.0, 4.5, 3.0, 2.0, 3.25, 1.5, #np.nan, np.nan, \n",
    "                    3.0, 1.0, 2.75, 1.5, 2.5, 1.5, 2.5])\n",
    "\n",
    "mikaela = pd.Series([3.0]*6+[5.9]*12+[6.0]*10+[5.9]*10+[6.0]*10+[5.9]*10+[6.0]*10+[5.9]*5+[0.0]*15)\n",
    "\n",
    "\n",
    "adam = pd.Series([  0.0, 0.0, 0.0, 0.0, 0.0, 0.0, 0.0, 0.0, 0.0, 0.0, 0.0, 0.05,\n",
    "                    0.08, 0.12, 0.19, 0.36, 0.57, 0.72, 0.98, 1.22, 1.45, 1.66, 1.88, 1.99,\n",
    "                    2.17, 2.26, 2.35, 2.42, 2.47, 2.48, 2.49, 2.5, 2.5, 2.5, 2.5, 2.5,\n",
    "                    1.0, 1.0, 1.0, 1.0, 1.0, 1.0, 1.0, 1.0, 1.0, 1.0, 1.0, 1.0,\n",
    "                    1.1, 2.0, 4.0, 4.05, 4.09, 4.15, 4.17, 4.19, 4.22, 4.25, 4.27, 4.29,\n",
    "                    4.3, 4.3, 4.3, 4.3, 4.3, 4.3, 4.3, 4.3, 4.3, 4.3, 4.3, 4.3,\n",
    "                    4.3, 4.3, 4.3, 4.3, 4.3, 4.3, 5.95, 4.4, 4.4, 4.4, 4.4, 4.35,\n",
    "                    4.3, 4.3, 4.3, 4.3])\n",
    "\n",
    "\n",
    "\n",
    "xlabels = [\"Aug '15\", \"Nov '15\", \"Feb '16\", \"May '16\", \"Aug '16\", \"Nov '16\", \"Feb '17\", \"May '17\"]\n",
    "ylabels = [\"0\",\"1\",\"2\",\"3\",\"4\",\"5\",\"6+\",\"\"]"
   ]
  },
  {
   "cell_type": "code",
   "execution_count": 16,
   "metadata": {
    "collapsed": true
   },
   "outputs": [],
   "source": [
    "#plt.plot(x, y, 'ro')\n",
    "# You can specify a rotation for the tick labels in degrees or with keywords.\n",
    "\n",
    "threshold = 78\n",
    "below = time <= threshold\n",
    "above = time >= threshold"
   ]
  },
  {
   "cell_type": "code",
   "execution_count": 19,
   "metadata": {},
   "outputs": [
    {
     "name": "stderr",
     "output_type": "stream",
     "text": [
      "/home/david/anaconda3/lib/python3.6/site-packages/matplotlib/font_manager.py:1316: UserWarning: findfont: Font family ['xkcd', 'Humor Sans', 'Comic Sans MS'] not found. Falling back to DejaVu Sans\n",
      "  (prop.get_family(), self.defaultFamily[fontext]))\n"
     ]
    },
    {
     "data": {
      "text/plain": [
       "'\\nMatplotlib color options\\nb: blue\\ng: green\\nr: red\\nc: cyan\\nm: magenta\\ny: yellow\\nk: black\\nw: white\\n'"
      ]
     },
     "execution_count": 19,
     "metadata": {},
     "output_type": "execute_result"
    }
   ],
   "source": [
    "fig = plt.figure(num=None, figsize=(15, 6), dpi=180, facecolor='w', edgecolor='k')\n",
    "with plt.xkcd():s\n",
    "    ax = plt.subplot(111)\n",
    "    ax.plot(time[below], mary[below], 'k-')\n",
    "    ax.plot(time[below], mikaela[below], 'r-')\n",
    "    ax.plot(time[below], adam[below], 'g-')\n",
    "    ax.plot(time[below], joseph[below], 'b-')\n",
    "    ax.plot(time[below], parker[below], 'c-')\n",
    "    ax.plot(time[below], david[below], 'm-')\n",
    "    ax.plot(time[above], mary[above], 'k:')\n",
    "    ax.plot(time[above], mikaela[above], 'r:')\n",
    "    ax.plot(time[above], adam[above], 'g:')\n",
    "    ax.plot(time[above], joseph[above], 'b:')\n",
    "    ax.plot(time[above], parker[above], 'c:')\n",
    "    ax.plot(time[above], david[above], 'm:')\n",
    "    #ax.text(81.6, 2.9, r'??', fontsize = 16, color = 'red')\n",
    "    #ax.text(81.5, 1.7, r'???', fontsize = 18, color = 'red')\n",
    "    ax.xaxis.set_minor_locator(minorLocator)\n",
    "    plt.tick_params(which='both', width=2)\n",
    "    plt.tick_params(which='major', length=8)\n",
    "    plt.tick_params(which='minor', length=4)\n",
    "    #plt.xticks(np.arange(0,89,4.0))\n",
    "    plt.xticks(np.arange(0, 89, 12.0), xlabels, rotation = 30)\n",
    "    plt.yticks(np.arange(0,7,1.0), ylabels)\n",
    "    plt.ylim(0,7)\n",
    "    #plt.xlabel(\"Time\")\n",
    "    plt.ylabel(\"Cups of coffee per day\")\n",
    "    plt.title(\"GTA Coffee consumption\")\n",
    "    box = ax.get_position()\n",
    "    ax.set_position([box.x0, box.y0, box.width*0.9, box.height])\n",
    "    ax.legend(['Mary', 'Mikaela','Adam', 'Joseph', 'Parker', 'David'], bbox_to_anchor=(1.2, .75))\n",
    "    plt.savefig('coffee.png')\n",
    "\n",
    "\n",
    "\"\"\"\n",
    "Matplotlib color options\n",
    "b: blue\n",
    "g: green\n",
    "r: red\n",
    "c: cyan\n",
    "m: magenta\n",
    "y: yellow\n",
    "k: black\n",
    "w: white\n",
    "\"\"\""
   ]
  },
  {
   "cell_type": "code",
   "execution_count": null,
   "metadata": {
    "collapsed": true
   },
   "outputs": [],
   "source": []
  }
 ],
 "metadata": {
  "kernelspec": {
   "display_name": "Python 3",
   "language": "python",
   "name": "python3"
  },
  "language_info": {
   "codemirror_mode": {
    "name": "ipython",
    "version": 3
   },
   "file_extension": ".py",
   "mimetype": "text/x-python",
   "name": "python",
   "nbconvert_exporter": "python",
   "pygments_lexer": "ipython3",
   "version": "3.6.3"
  }
 },
 "nbformat": 4,
 "nbformat_minor": 2
}
